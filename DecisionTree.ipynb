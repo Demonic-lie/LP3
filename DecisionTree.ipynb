{
 "cells": [
  {
   "cell_type": "code",
   "execution_count": 38,
   "metadata": {},
   "outputs": [],
   "source": [
    "#importing libraries\n",
    "import pandas as pd\n",
    "import numpy as np"
   ]
  },
  {
   "cell_type": "code",
   "execution_count": 39,
   "metadata": {},
   "outputs": [
    {
     "name": "stdout",
     "output_type": "stream",
     "text": [
      "    ID   Age   Income  Gender Marital Status Buys\n",
      "0    1    <21    High    Male         Single   No\n",
      "1    2    <21    High    Male        Married   No\n",
      "2    3  21-35  Medium    Male         Single  Yes\n",
      "3    4    >35  Medium  Female         Single  Yes\n",
      "4    5    >35     Low  Female         Single  Yes\n",
      "5    6    >35     Low  Female        Married   No\n",
      "6    7  21-35     Low  Female        Married  Yes\n",
      "7    8    <21  Medium    Male         Single   No\n",
      "8    9    <21     Low  Female        Married  Yes\n",
      "9   10    >35  Medium  Female         Single  Yes\n",
      "10  11    <21  Medium  Female        Married  Yes\n",
      "11  12  21-35  Medium    Male        Married  Yes\n",
      "12  13  21-35  Medium  Female         Single  Yes\n",
      "13  14    >35  Medium    Male        Married   No\n"
     ]
    }
   ],
   "source": [
    "# Reading Dataset \n",
    "dataset = pd.read_csv(\"CosmeticsDataset.csv\")\n",
    "print(dataset)"
   ]
  },
  {
   "cell_type": "code",
   "execution_count": 40,
   "metadata": {},
   "outputs": [],
   "source": [
    "X = dataset.iloc[:,:-1]     # X contains all data points excluding last column \n",
    "y = dataset.iloc[:,5]       # Y contains last cloumn"
   ]
  },
  {
   "cell_type": "code",
   "execution_count": 41,
   "metadata": {},
   "outputs": [
    {
     "name": "stdout",
     "output_type": "stream",
     "text": [
      "    ID   Age   Income  Gender Marital Status\n",
      "0    1    <21    High    Male         Single\n",
      "1    2    <21    High    Male        Married\n",
      "2    3  21-35  Medium    Male         Single\n",
      "3    4    >35  Medium  Female         Single\n",
      "4    5    >35     Low  Female         Single\n",
      "5    6    >35     Low  Female        Married\n",
      "6    7  21-35     Low  Female        Married\n",
      "7    8    <21  Medium    Male         Single\n",
      "8    9    <21     Low  Female        Married\n",
      "9   10    >35  Medium  Female         Single\n",
      "10  11    <21  Medium  Female        Married\n",
      "11  12  21-35  Medium    Male        Married\n",
      "12  13  21-35  Medium  Female         Single\n",
      "13  14    >35  Medium    Male        Married\n"
     ]
    }
   ],
   "source": [
    "print(X)"
   ]
  },
  {
   "cell_type": "code",
   "execution_count": 42,
   "metadata": {},
   "outputs": [
    {
     "name": "stdout",
     "output_type": "stream",
     "text": [
      "0      No\n",
      "1      No\n",
      "2     Yes\n",
      "3     Yes\n",
      "4     Yes\n",
      "5      No\n",
      "6     Yes\n",
      "7      No\n",
      "8     Yes\n",
      "9     Yes\n",
      "10    Yes\n",
      "11    Yes\n",
      "12    Yes\n",
      "13     No\n",
      "Name: Buys, dtype: object\n"
     ]
    }
   ],
   "source": [
    "print(y)"
   ]
  },
  {
   "cell_type": "code",
   "execution_count": 43,
   "metadata": {},
   "outputs": [],
   "source": [
    "#Perform label encoding\n",
    "from sklearn.preprocessing import LabelEncoder\n",
    "le = LabelEncoder()"
   ]
  },
  {
   "cell_type": "code",
   "execution_count": 44,
   "metadata": {},
   "outputs": [
    {
     "name": "stdout",
     "output_type": "stream",
     "text": [
      "    ID  Age   Income  Gender  Marital Status\n",
      "0    0     1       0       1               1\n",
      "1    1     1       0       1               0\n",
      "2    2     0       2       1               1\n",
      "3    3     2       2       0               1\n",
      "4    4     2       1       0               1\n",
      "5    5     2       1       0               0\n",
      "6    6     0       1       0               0\n",
      "7    7     1       2       1               1\n",
      "8    8     1       1       0               0\n",
      "9    9     2       2       0               1\n",
      "10  10     1       2       0               0\n",
      "11  11     0       2       1               0\n",
      "12  12     0       2       0               1\n",
      "13  13     2       2       1               0\n"
     ]
    }
   ],
   "source": [
    "X = X.apply(le.fit_transform)\n",
    "print(X)"
   ]
  },
  {
   "cell_type": "code",
   "execution_count": 45,
   "metadata": {},
   "outputs": [
    {
     "data": {
      "text/plain": [
       "DecisionTreeClassifier()"
      ]
     },
     "execution_count": 45,
     "metadata": {},
     "output_type": "execute_result"
    }
   ],
   "source": [
    "from sklearn.tree import DecisionTreeClassifier\n",
    "regressor = DecisionTreeClassifier()\n",
    "regressor.fit(X.iloc[:,1:5],y)"
   ]
  },
  {
   "cell_type": "code",
   "execution_count": 46,
   "metadata": {},
   "outputs": [
    {
     "name": "stdout",
     "output_type": "stream",
     "text": [
      "Prediction : ['Yes']\n"
     ]
    },
    {
     "name": "stderr",
     "output_type": "stream",
     "text": [
      "C:\\Users\\Simran\\AppData\\Roaming\\Python\\Python310\\site-packages\\sklearn\\base.py:450: UserWarning: X does not have valid feature names, but DecisionTreeClassifier was fitted with feature names\n",
      "  warnings.warn(\n"
     ]
    }
   ],
   "source": [
    "#Predict value for given expression [Age < 21, Income = Low, Gender = Female, Marital Status = Married]\n",
    "X_in = np.array([1,1,0,0])\n",
    "y_pred = regressor.predict([X_in])\n",
    "print(\"Prediction :\", y_pred)\n"
   ]
  },
  {
   "cell_type": "code",
   "execution_count": 54,
   "metadata": {},
   "outputs": [],
   "source": [
    "import six\n",
    "from IPython.display import Image\n",
    "from  sklearn.tree import export_graphviz\n",
    "from io import StringIO\n",
    "import pydotplus\n",
    "dot_data = StringIO()\n",
    "export_graphviz(regressor,out_file=dot_data,filled=True,rounded=True,special_characters=True)\n",
    "graph=pydotplus.graph_from_dot_data(dot_data.getvalue())\n",
    "graph.write_png(\"dtree.png\")"
   ]
  }
 ],
 "metadata": {
  "interpreter": {
   "hash": "b89b5cfaba6639976dc87ff2fec6d58faec662063367e2c229c520fe71072417"
  },
  "kernelspec": {
   "display_name": "Python 3.10.2 64-bit",
   "language": "python",
   "name": "python3"
  },
  "language_info": {
   "codemirror_mode": {
    "name": "ipython",
    "version": 3
   },
   "file_extension": ".py",
   "mimetype": "text/x-python",
   "name": "python",
   "nbconvert_exporter": "python",
   "pygments_lexer": "ipython3",
   "version": "3.10.2"
  },
  "orig_nbformat": 4
 },
 "nbformat": 4,
 "nbformat_minor": 2
}
